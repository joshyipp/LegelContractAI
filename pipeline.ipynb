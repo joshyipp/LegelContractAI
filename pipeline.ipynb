{
 "cells": [
  {
   "cell_type": "markdown",
   "metadata": {},
   "source": [
    "Training off of pretrained Legal Bert Model for sequence classification (want to categorize as {0: \"Agreement\", 1: \"Payment\", 2: \"Confidentiality\"})"
   ]
  },
  {
   "cell_type": "code",
   "execution_count": null,
   "metadata": {},
   "outputs": [
    {
     "name": "stderr",
     "output_type": "stream",
     "text": [
      "Some weights of BertForSequenceClassification were not initialized from the model checkpoint at nlpaueb/bert-base-uncased-contracts and are newly initialized: ['classifier.bias', 'classifier.weight']\n",
      "You should probably TRAIN this model on a down-stream task to be able to use it for predictions and inference.\n"
     ]
    },
    {
     "name": "stdout",
     "output_type": "stream",
     "text": [
      "Clause: Clause 1: The parties agree to the following terms...\n",
      "Classified as: Payment with confidence 0.53\n",
      "\n",
      "Clause: Clause 2: The payment shall be made within 30 days...\n",
      "Classified as: Agreement with confidence 0.56\n",
      "\n",
      "Clause: Clause 3: Confidentiality must be maintained at all costs.\n",
      "Classified as: Payment with confidence 0.53\n",
      "\n"
     ]
    }
   ],
   "source": [
    "from transformers import pipeline\n",
    "\n",
    "# Define a mapping for labels if needed (assuming model returns indices)\n",
    "index_to_clause_type = {0: \"Agreement\", 1: \"Payment\", 2: \"Confidentiality\"}\n",
    "\n",
    "# Load a text classification pipeline with a model fine-tuned for clause classification\n",
    "pipe = pipeline(\"text-classification\", model=\"nlpaueb/bert-base-uncased-contracts\")\n",
    "\n",
    "# List of example clauses for identification\n",
    "clauses = [\n",
    "    \"Clause 1: The parties agree to the following terms...\",\n",
    "    \"Clause 2: The payment shall be made within 30 days...\",\n",
    "    \"Clause 3: Confidentiality must be maintained at all costs.\"\n",
    "]\n",
    "\n",
    "# Run the pipeline on each clause and print the result with mapped labels\n",
    "for clause in clauses:\n",
    "    result = pipe(clause)\n",
    "    label_index = int(result[0]['label'].split('_')[-1])  # Assuming label format is \"LABEL_X\"\n",
    "    label = index_to_clause_type.get(label_index, \"Unknown\")\n",
    "    print(f\"Clause: {clause}\\nClassified as: {label} with confidence {result[0]['score']:.2f}\\n\")\n",
    "    \n",
    "#would need to train for more accurate results"
   ]
  }
 ],
 "metadata": {
  "kernelspec": {
   "display_name": ".venv",
   "language": "python",
   "name": "python3"
  },
  "language_info": {
   "codemirror_mode": {
    "name": "ipython",
    "version": 3
   },
   "file_extension": ".py",
   "mimetype": "text/x-python",
   "name": "python",
   "nbconvert_exporter": "python",
   "pygments_lexer": "ipython3",
   "version": "3.11.10"
  }
 },
 "nbformat": 4,
 "nbformat_minor": 2
}
